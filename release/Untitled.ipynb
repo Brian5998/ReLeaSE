{
 "cells": [
  {
   "cell_type": "code",
   "execution_count": 21,
   "id": "d6728920",
   "metadata": {},
   "outputs": [],
   "source": [
    "import sklearn.datasets\n",
    "import pandas as pd\n",
    "import numpy as np\n",
    "import rdkit\n",
    "from rdkit import Chem, DataStructs\n",
    "from rdkit import Chem, DataStructs\n",
    "from rdkit.Chem import AllChem, rdMolDescriptors, Descriptors, rdMMPA, QED, RDConfig, Draw, PropertyMol\n",
    "from rdkit.Chem.Lipinski import RotatableBondSmarts\n",
    "from rdkit.Chem.FilterCatalog import *\n",
    "from sklearn.model_selection import train_test_split\n",
    "from sklearn import metrics #Import scikit-learn metrics module for accuracy calculation\n",
    "import sklearn\n",
    "from sklearn.ensemble import RandomForestClassifier\n",
    "import lightgbm as lgb\n",
    "from sklearn.metrics import roc_auc_score\n",
    "from sklearn.metrics import r2_score\n",
    "import pickle \n"
   ]
  },
  {
   "cell_type": "code",
   "execution_count": 22,
   "id": "689b865e",
   "metadata": {},
   "outputs": [],
   "source": [
    "def morgan_fp(mol, radius=3, nbits=2048, use_features=False):\n",
    "    \"morgan fingerprint\"\n",
    "    mol = to_mol(mol)\n",
    "    fp = rdMolDescriptors.GetMorganFingerprintAsBitVect(mol, radius, nBits=nbits, useFeatures=use_features)\n",
    "    return fp\n",
    "\n",
    "\n",
    "def fp_to_array(fp):\n",
    "    \"Converts RDKit `ExplicitBitVec` to numpy array\"\n",
    "    return np.unpackbits(np.frombuffer(DataStructs.BitVectToBinaryText(fp), dtype=np.uint8), bitorder='little')\n",
    "\n",
    "\n",
    "def to_mol(smile_or_mol):\n",
    "    if (type(smile_or_mol) == str) or (type(smile_or_mol) == np.str_):\n",
    "        mol = Chem.MolFromSmiles(smile_or_mol)\n",
    "        if mol is not None:\n",
    "            try:\n",
    "                Chem.SanitizeMol(mol)\n",
    "            except:\n",
    "                mol = None\n",
    "    else:\n",
    "        mol = smile_or_mol\n",
    "        \n",
    "    return mol"
   ]
  },
  {
   "cell_type": "code",
   "execution_count": 23,
   "id": "4a3dd92d",
   "metadata": {},
   "outputs": [],
   "source": [
    "data = pd.read_csv('ExperimentalHeatOfCombustionValuesLog.csv')"
   ]
  },
  {
   "cell_type": "code",
   "execution_count": 32,
   "id": "49550e7e",
   "metadata": {},
   "outputs": [
    {
     "data": {
      "text/html": [
       "<div>\n",
       "<style scoped>\n",
       "    .dataframe tbody tr th:only-of-type {\n",
       "        vertical-align: middle;\n",
       "    }\n",
       "\n",
       "    .dataframe tbody tr th {\n",
       "        vertical-align: top;\n",
       "    }\n",
       "\n",
       "    .dataframe thead th {\n",
       "        text-align: right;\n",
       "    }\n",
       "</style>\n",
       "<table border=\"1\" class=\"dataframe\">\n",
       "  <thead>\n",
       "    <tr style=\"text-align: right;\">\n",
       "      <th></th>\n",
       "      <th>SMILES</th>\n",
       "      <th>Y</th>\n",
       "    </tr>\n",
       "  </thead>\n",
       "  <tbody>\n",
       "    <tr>\n",
       "      <th>0</th>\n",
       "      <td>c1ccc(cc1)CCc1ccccc1</td>\n",
       "      <td>0.000000</td>\n",
       "    </tr>\n",
       "    <tr>\n",
       "      <th>1</th>\n",
       "      <td>Cc1cccc(C)c1</td>\n",
       "      <td>0.000000</td>\n",
       "    </tr>\n",
       "    <tr>\n",
       "      <th>2</th>\n",
       "      <td>Cc1ccc(cc1)C(C)C</td>\n",
       "      <td>0.301030</td>\n",
       "    </tr>\n",
       "    <tr>\n",
       "      <th>3</th>\n",
       "      <td>c1ccccc1</td>\n",
       "      <td>0.301030</td>\n",
       "    </tr>\n",
       "    <tr>\n",
       "      <th>4</th>\n",
       "      <td>CO</td>\n",
       "      <td>0.477121</td>\n",
       "    </tr>\n",
       "    <tr>\n",
       "      <th>...</th>\n",
       "      <td>...</td>\n",
       "      <td>...</td>\n",
       "    </tr>\n",
       "    <tr>\n",
       "      <th>316</th>\n",
       "      <td>CCCCCCCCCCCCCCCCCCCC</td>\n",
       "      <td>2.041393</td>\n",
       "    </tr>\n",
       "    <tr>\n",
       "      <th>317</th>\n",
       "      <td>CCCCCCCCCCCCCCCCCCC</td>\n",
       "      <td>2.041393</td>\n",
       "    </tr>\n",
       "    <tr>\n",
       "      <th>318</th>\n",
       "      <td>CCCCCCCCCCCCCCCCCC(=O)OCCC(CC)CCC</td>\n",
       "      <td>2.064458</td>\n",
       "    </tr>\n",
       "    <tr>\n",
       "      <th>319</th>\n",
       "      <td>CCCCCCCC/C=C\\CCCCCCCC(=O)OCCCCCCCC</td>\n",
       "      <td>2.117271</td>\n",
       "    </tr>\n",
       "    <tr>\n",
       "      <th>320</th>\n",
       "      <td>CCCCCCCCCCCCOC(=O)CCCCCCC/C=C\\CCCCCCCC</td>\n",
       "      <td>2.127105</td>\n",
       "    </tr>\n",
       "  </tbody>\n",
       "</table>\n",
       "<p>321 rows × 2 columns</p>\n",
       "</div>"
      ],
      "text/plain": [
       "                                     SMILES         Y\n",
       "0                      c1ccc(cc1)CCc1ccccc1  0.000000\n",
       "1                              Cc1cccc(C)c1  0.000000\n",
       "2                          Cc1ccc(cc1)C(C)C  0.301030\n",
       "3                                  c1ccccc1  0.301030\n",
       "4                                        CO  0.477121\n",
       "..                                      ...       ...\n",
       "316                    CCCCCCCCCCCCCCCCCCCC  2.041393\n",
       "317                     CCCCCCCCCCCCCCCCCCC  2.041393\n",
       "318       CCCCCCCCCCCCCCCCCC(=O)OCCC(CC)CCC  2.064458\n",
       "319      CCCCCCCC/C=C\\CCCCCCCC(=O)OCCCCCCCC  2.117271\n",
       "320  CCCCCCCCCCCCOC(=O)CCCCCCC/C=C\\CCCCCCCC  2.127105\n",
       "\n",
       "[321 rows x 2 columns]"
      ]
     },
     "execution_count": 32,
     "metadata": {},
     "output_type": "execute_result"
    }
   ],
   "source": [
    "data"
   ]
  },
  {
   "cell_type": "code",
   "execution_count": 24,
   "id": "6742c738",
   "metadata": {},
   "outputs": [],
   "source": [
    "X = data['SMILES'].tolist()\n",
    "Y = data['Y'].tolist()"
   ]
  },
  {
   "cell_type": "code",
   "execution_count": 25,
   "id": "cd2a0139",
   "metadata": {},
   "outputs": [],
   "source": [
    "molecules = []\n",
    "for mol in X:\n",
    "    molecules.append(morgan_fp(mol))\n",
    "\n",
    "X_data = []\n",
    "for arr in molecules:\n",
    "    X_data.append(fp_to_array(arr))\n",
    "\n"
   ]
  },
  {
   "cell_type": "code",
   "execution_count": 26,
   "id": "596c87d7",
   "metadata": {},
   "outputs": [],
   "source": [
    "model = lgb.LGBMRegressor(objective=\"regression\")"
   ]
  },
  {
   "cell_type": "code",
   "execution_count": 27,
   "id": "caeaf10b",
   "metadata": {},
   "outputs": [],
   "source": [
    "\n",
    "X_ndarray = np.array(X_data)\n",
    "y_ndarray = np.array(data['Y'].tolist())\n",
    "X_ndarray_train,X_ndarray_test,y_ndarray_train,y_ndarray_test = train_test_split(X_ndarray,\n",
    "                                                 y_ndarray,\n",
    "                                                 test_size=0.30,\n",
    "                                                 random_state=42)\n",
    "\n"
   ]
  },
  {
   "cell_type": "code",
   "execution_count": 28,
   "id": "1ba6eeac",
   "metadata": {},
   "outputs": [
    {
     "data": {
      "text/html": [
       "<style>#sk-container-id-2 {color: black;background-color: white;}#sk-container-id-2 pre{padding: 0;}#sk-container-id-2 div.sk-toggleable {background-color: white;}#sk-container-id-2 label.sk-toggleable__label {cursor: pointer;display: block;width: 100%;margin-bottom: 0;padding: 0.3em;box-sizing: border-box;text-align: center;}#sk-container-id-2 label.sk-toggleable__label-arrow:before {content: \"▸\";float: left;margin-right: 0.25em;color: #696969;}#sk-container-id-2 label.sk-toggleable__label-arrow:hover:before {color: black;}#sk-container-id-2 div.sk-estimator:hover label.sk-toggleable__label-arrow:before {color: black;}#sk-container-id-2 div.sk-toggleable__content {max-height: 0;max-width: 0;overflow: hidden;text-align: left;background-color: #f0f8ff;}#sk-container-id-2 div.sk-toggleable__content pre {margin: 0.2em;color: black;border-radius: 0.25em;background-color: #f0f8ff;}#sk-container-id-2 input.sk-toggleable__control:checked~div.sk-toggleable__content {max-height: 200px;max-width: 100%;overflow: auto;}#sk-container-id-2 input.sk-toggleable__control:checked~label.sk-toggleable__label-arrow:before {content: \"▾\";}#sk-container-id-2 div.sk-estimator input.sk-toggleable__control:checked~label.sk-toggleable__label {background-color: #d4ebff;}#sk-container-id-2 div.sk-label input.sk-toggleable__control:checked~label.sk-toggleable__label {background-color: #d4ebff;}#sk-container-id-2 input.sk-hidden--visually {border: 0;clip: rect(1px 1px 1px 1px);clip: rect(1px, 1px, 1px, 1px);height: 1px;margin: -1px;overflow: hidden;padding: 0;position: absolute;width: 1px;}#sk-container-id-2 div.sk-estimator {font-family: monospace;background-color: #f0f8ff;border: 1px dotted black;border-radius: 0.25em;box-sizing: border-box;margin-bottom: 0.5em;}#sk-container-id-2 div.sk-estimator:hover {background-color: #d4ebff;}#sk-container-id-2 div.sk-parallel-item::after {content: \"\";width: 100%;border-bottom: 1px solid gray;flex-grow: 1;}#sk-container-id-2 div.sk-label:hover label.sk-toggleable__label {background-color: #d4ebff;}#sk-container-id-2 div.sk-serial::before {content: \"\";position: absolute;border-left: 1px solid gray;box-sizing: border-box;top: 0;bottom: 0;left: 50%;z-index: 0;}#sk-container-id-2 div.sk-serial {display: flex;flex-direction: column;align-items: center;background-color: white;padding-right: 0.2em;padding-left: 0.2em;position: relative;}#sk-container-id-2 div.sk-item {position: relative;z-index: 1;}#sk-container-id-2 div.sk-parallel {display: flex;align-items: stretch;justify-content: center;background-color: white;position: relative;}#sk-container-id-2 div.sk-item::before, #sk-container-id-2 div.sk-parallel-item::before {content: \"\";position: absolute;border-left: 1px solid gray;box-sizing: border-box;top: 0;bottom: 0;left: 50%;z-index: -1;}#sk-container-id-2 div.sk-parallel-item {display: flex;flex-direction: column;z-index: 1;position: relative;background-color: white;}#sk-container-id-2 div.sk-parallel-item:first-child::after {align-self: flex-end;width: 50%;}#sk-container-id-2 div.sk-parallel-item:last-child::after {align-self: flex-start;width: 50%;}#sk-container-id-2 div.sk-parallel-item:only-child::after {width: 0;}#sk-container-id-2 div.sk-dashed-wrapped {border: 1px dashed gray;margin: 0 0.4em 0.5em 0.4em;box-sizing: border-box;padding-bottom: 0.4em;background-color: white;}#sk-container-id-2 div.sk-label label {font-family: monospace;font-weight: bold;display: inline-block;line-height: 1.2em;}#sk-container-id-2 div.sk-label-container {text-align: center;}#sk-container-id-2 div.sk-container {/* jupyter's `normalize.less` sets `[hidden] { display: none; }` but bootstrap.min.css set `[hidden] { display: none !important; }` so we also need the `!important` here to be able to override the default hidden behavior on the sphinx rendered scikit-learn.org. See: https://github.com/scikit-learn/scikit-learn/issues/21755 */display: inline-block !important;position: relative;}#sk-container-id-2 div.sk-text-repr-fallback {display: none;}</style><div id=\"sk-container-id-2\" class=\"sk-top-container\"><div class=\"sk-text-repr-fallback\"><pre>LGBMRegressor(objective=&#x27;regression&#x27;)</pre><b>In a Jupyter environment, please rerun this cell to show the HTML representation or trust the notebook. <br />On GitHub, the HTML representation is unable to render, please try loading this page with nbviewer.org.</b></div><div class=\"sk-container\" hidden><div class=\"sk-item\"><div class=\"sk-estimator sk-toggleable\"><input class=\"sk-toggleable__control sk-hidden--visually\" id=\"sk-estimator-id-2\" type=\"checkbox\" checked><label for=\"sk-estimator-id-2\" class=\"sk-toggleable__label sk-toggleable__label-arrow\">LGBMRegressor</label><div class=\"sk-toggleable__content\"><pre>LGBMRegressor(objective=&#x27;regression&#x27;)</pre></div></div></div></div></div>"
      ],
      "text/plain": [
       "LGBMRegressor(objective='regression')"
      ]
     },
     "execution_count": 28,
     "metadata": {},
     "output_type": "execute_result"
    }
   ],
   "source": [
    "model.fit(X_ndarray_train,y_ndarray_train,1000)"
   ]
  },
  {
   "cell_type": "code",
   "execution_count": 29,
   "id": "34f19b50",
   "metadata": {},
   "outputs": [
    {
     "name": "stdout",
     "output_type": "stream",
     "text": [
      "Accuracy r^2: 0.8116850989834227\n"
     ]
    }
   ],
   "source": [
    "#Train the model using the training sets y_pred=clf.predict(X_test)\n",
    "y_pred= model.predict(X_ndarray_test)\n",
    "print(\"Accuracy r^2:\",metrics.r2_score(y_ndarray_test, y_pred))\n"
   ]
  },
  {
   "cell_type": "code",
   "execution_count": 18,
   "id": "f5facbc0",
   "metadata": {},
   "outputs": [],
   "source": [
    "# Save to file in the current working directory\n",
    "pkl_filename = \"LBGM_Hemloytic_81%.pkl\"\n",
    "with open(pkl_filename, 'wb') as file:\n",
    "    pickle.dump(model, file)"
   ]
  },
  {
   "cell_type": "code",
   "execution_count": 37,
   "id": "bcd68660",
   "metadata": {},
   "outputs": [],
   "source": [
    "test = 'Cc1cccc(C)c1'\n",
    "temp = []\n",
    "l = fp_to_array(morgan_fp(test))\n",
    "\n",
    "temp.append(l)"
   ]
  },
  {
   "cell_type": "code",
   "execution_count": 38,
   "id": "d6cb1ace",
   "metadata": {},
   "outputs": [
    {
     "data": {
      "text/plain": [
       "array([0.63374734])"
      ]
     },
     "execution_count": 38,
     "metadata": {},
     "output_type": "execute_result"
    }
   ],
   "source": [
    "model.predict(temp)"
   ]
  },
  {
   "cell_type": "code",
   "execution_count": null,
   "id": "701a66d4",
   "metadata": {},
   "outputs": [],
   "source": []
  }
 ],
 "metadata": {
  "kernelspec": {
   "display_name": "Python 3 (ipykernel)",
   "language": "python",
   "name": "python3"
  },
  "language_info": {
   "codemirror_mode": {
    "name": "ipython",
    "version": 3
   },
   "file_extension": ".py",
   "mimetype": "text/x-python",
   "name": "python",
   "nbconvert_exporter": "python",
   "pygments_lexer": "ipython3",
   "version": "3.9.13"
  }
 },
 "nbformat": 4,
 "nbformat_minor": 5
}
